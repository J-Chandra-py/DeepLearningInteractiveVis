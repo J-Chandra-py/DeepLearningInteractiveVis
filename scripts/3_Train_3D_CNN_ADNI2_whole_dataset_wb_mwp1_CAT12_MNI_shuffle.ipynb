{
 "cells": [
  {
   "cell_type": "markdown",
   "metadata": {},
   "source": [
    "# Training of the CNN model based on the whole dataset (without cross-validation) to evaluate the resulting model on the independent datasets"
   ]
  },
  {
   "cell_type": "code",
   "execution_count": 1,
   "metadata": {
    "colab": {},
    "colab_type": "code",
    "id": "rDUdNeNd6xle"
   },
   "outputs": [],
   "source": [
    "# Import data from Excel sheet\n",
    "import pandas as pd\n",
    "df = pd.read_excel('hippocampus_volume_relevance_ADNI2.xlsx', sheet_name='ADNI2_LRP_CMP')\n",
    "sid = df['subject_ID']\n",
    "grp = df['Group at scan date (1=CN, 2=EMCI, 3=LMCI, 4=AD, 5=SMC)']\n",
    "age = df['Age at scan']\n",
    "sex = df['Sex (1=female)']\n",
    "tiv = df['TIV_CAT12']\n",
    "field = df['MRI_Field_Strength']\n",
    "amybin = df['Amy SUVR Pos']\n",
    "grpbin = (grp > 1) # 1=CN, ..."
   ]
  },
  {
   "cell_type": "code",
   "execution_count": 2,
   "metadata": {
    "colab": {
     "base_uri": "https://localhost:8080/",
     "height": 36
    },
    "colab_type": "code",
    "id": "Oi75gi2z9JIS",
    "outputId": "3df595b4-66cc-45e0-b162-755e20aa2c9c"
   },
   "outputs": [
    {
     "name": "stdout",
     "output_type": "stream",
     "text": [
      "Found  663  nifti files\n"
     ]
    }
   ],
   "source": [
    "# Scan for nifti file names\n",
    "import glob\n",
    "dataAD = sorted(glob.glob('mwp1_MNI/AD/*.nii.gz'))\n",
    "dataLMCI = sorted(glob.glob('mwp1_MNI/LMCI/*.nii.gz'))\n",
    "dataCN = sorted(glob.glob('mwp1_MNI/CN/*.nii.gz'))\n",
    "dataFiles = dataAD + dataLMCI + dataCN\n",
    "numfiles = len(dataFiles)\n",
    "print('Found ', str(numfiles), ' nifti files')"
   ]
  },
  {
   "cell_type": "code",
   "execution_count": 3,
   "metadata": {
    "colab": {
     "base_uri": "https://localhost:8080/",
     "height": 55
    },
    "colab_type": "code",
    "id": "Bgn7LbCLbXND",
    "outputId": "c78ba415-13f4-4a9c-d3d1-969975e51cf3"
   },
   "outputs": [
    {
     "name": "stderr",
     "output_type": "stream",
     "text": [
      "Using TensorFlow backend.\n"
     ]
    },
    {
     "name": "stdout",
     "output_type": "stream",
     "text": [
      "Matching covariates for loaded files ...\n",
      "Checking for scans not found in Excel sheet:  0\n"
     ]
    }
   ],
   "source": [
    "# Match covariate information\n",
    "import re\n",
    "import numpy as np\n",
    "from keras.utils import to_categorical\n",
    "debug = False\n",
    "cov_idx = [-1] * numfiles # list; array: np.full((numfiles, 1), -1, dtype=int)\n",
    "print('Matching covariates for loaded files ...')\n",
    "for i,id in enumerate(sid):\n",
    "  p = [j for j,x in enumerate(dataFiles) if re.search('_%04d_' % id, x)] # translate ID numbers to four-digit numbers, get both index and filename\n",
    "  if len(p)==0:\n",
    "    if debug: print('Did not find %04d' % id) # did not find Excel sheet subject ID in loaded file selection\n",
    "  else:\n",
    "    if debug: print('Found %04d in %s: %s' % (id, p[0], dataFiles[p[0]]))\n",
    "    cov_idx[p[0]] = i # store Excel index i for data file index p[0]\n",
    "print('Checking for scans not found in Excel sheet: ', sum(x<0 for x in cov_idx))\n",
    "\n",
    "labels = pd.DataFrame({'Group':grpbin}).iloc[cov_idx, :]\n",
    "labels = to_categorical(np.asarray(labels)) # use grps to access original labels\n",
    "grps = pd.DataFrame({'Group':grp, 'RID':sid}).iloc[cov_idx, :]"
   ]
  },
  {
   "cell_type": "code",
   "execution_count": 4,
   "metadata": {
    "colab": {
     "base_uri": "https://localhost:8080/",
     "height": 36
    },
    "colab_type": "code",
    "id": "4KH0CEUJfcey",
    "outputId": "31a78006-0d93-48ca-b668-6b6970e16c2a"
   },
   "outputs": [
    {
     "name": "stdout",
     "output_type": "stream",
     "text": [
      "(663, 100, 100, 120, 1)\n"
     ]
    }
   ],
   "source": [
    "# Load residualized data from disk\n",
    "import h5py\n",
    "from pandas import DataFrame\n",
    "hf = h5py.File('residuals_ADNI2_wb_mwp1_CAT12_MNI.hdf5', 'r')\n",
    "hf.keys # read keys\n",
    "images = np.array(hf.get('images'))\n",
    "hf.close()\n",
    "print(images.shape)"
   ]
  },
  {
   "cell_type": "code",
   "execution_count": 5,
   "metadata": {
    "colab": {
     "base_uri": "https://localhost:8080/",
     "height": 36
    },
    "colab_type": "code",
    "id": "XJliKsql0adU",
    "outputId": "3abff222-03f2-42ba-ae71-86c8a0b7b17f"
   },
   "outputs": [
    {
     "name": "stdout",
     "output_type": "stream",
     "text": [
      "1.15.4\n"
     ]
    }
   ],
   "source": [
    "# specify version of tensorflow\n",
    "#%tensorflow_version 1.x  # <- use this for Google colab\n",
    "import tensorflow as tf\n",
    "# downgrade to specific version\n",
    "#!pip install tensorflow-gpu==1.15\n",
    "#import tensorflow as tf\n",
    "print(tf.__version__)\n",
    "\n",
    "# disable tensorflow deprecation warnings\n",
    "import logging\n",
    "logging.getLogger('tensorflow').disabled=True"
   ]
  },
  {
   "cell_type": "code",
   "execution_count": 6,
   "metadata": {},
   "outputs": [],
   "source": [
    "# define function for simple data augmentation (translation of 2 vx in each x/y/z direction)\n",
    "# and L/R flipping\n",
    "import numpy as np\n",
    "def simpleshift(arr, num, axis, fill_value=0): # adapted from https://stackoverflow.com/a/42642326\n",
    "  result = np.empty_like(arr)\n",
    "  if (axis==1):\n",
    "    if num > 0:\n",
    "        result[:, :num, :, :, :] = fill_value\n",
    "        result[:, num:, :, :, :] = arr[:, :-num, :, :, :]\n",
    "    elif num < 0:\n",
    "        result[:, num:, :, :, :] = fill_value\n",
    "        result[:, :num, :, :, :] = arr[:, -num:, :, :, :]\n",
    "    else:\n",
    "        result[:] = arr\n",
    "    return result\n",
    "  elif (axis==2):\n",
    "    if num > 0:\n",
    "        result[:, :, :num, :, :] = fill_value\n",
    "        result[:, :, num:, :, :] = arr[:, :, :-num, :, :]\n",
    "    elif num < 0:\n",
    "        result[:, :, num:, :, :] = fill_value\n",
    "        result[:, :, :num, :, :] = arr[:, :, -num:, :, :]\n",
    "    else:\n",
    "        result[:] = arr\n",
    "    return result\n",
    "  elif (axis==3):\n",
    "    if num > 0:\n",
    "        result[:, :, :, :num, :] = fill_value\n",
    "        result[:, :, :, num:, :] = arr[:, :, :, :-num, :]\n",
    "    elif num < 0:\n",
    "        result[:, :, :, num:, :] = fill_value\n",
    "        result[:, :, :, :num, :] = arr[:, :, :, -num:, :]\n",
    "    else:\n",
    "        result[:] = arr\n",
    "    return result\n",
    "  else:\n",
    "    return None\n"
   ]
  },
  {
   "cell_type": "code",
   "execution_count": 7,
   "metadata": {},
   "outputs": [
    {
     "name": "stdout",
     "output_type": "stream",
     "text": [
      "Examples:    Total: 663    Positive: 409 (61.69% of total)\n",
      "Weight for class 0: 1.31\n",
      "Weight for class 1: 0.81\n"
     ]
    }
   ],
   "source": [
    "# define class weights to train a balanced model, taken from https://www.tensorflow.org/tutorials/structured_data/imbalanced_data\n",
    "# Scaling by total/2 helps keep the loss to a similar magnitude.\n",
    "# The sum of the weights of all examples stays the same.\n",
    "neg, pos = np.bincount(labels[:, 1].astype(np.int_))\n",
    "weight_for_0 = (1 / neg)*(numfiles)/2.0 \n",
    "weight_for_1 = (1 / pos)*(numfiles)/2.0\n",
    "class_weights = {0: weight_for_0, 1: weight_for_1}\n",
    "print('Examples:    Total: {}    Positive: {} ({:.2f}% of total)'.format(\n",
    "    numfiles, pos, 100 * pos / numfiles))\n",
    "print('Weight for class 0: {:.2f}'.format(weight_for_0))\n",
    "print('Weight for class 1: {:.2f}'.format(weight_for_1))"
   ]
  },
  {
   "cell_type": "code",
   "execution_count": 8,
   "metadata": {
    "colab": {
     "base_uri": "https://localhost:8080/",
     "height": 130
    },
    "colab_type": "code",
    "id": "hAGRAIl-NzP0",
    "outputId": "f9dd3fe0-0d41-4988-cc3c-01434c57f68f",
    "scrolled": false
   },
   "outputs": [
    {
     "name": "stdout",
     "output_type": "stream",
     "text": [
      "Distribution of diagnoses in training data: [1=CN, 3=LMCI, 4=AD]\n",
      "1    254\n",
      "3    220\n",
      "4    189\n",
      "Name: Group, dtype: int64\n",
      "_________________________________________________________________\n",
      "Layer (type)                 Output Shape              Param #   \n",
      "=================================================================\n",
      "conv3d_1 (Conv3D)            (None, 100, 100, 120, 5)  140       \n",
      "_________________________________________________________________\n",
      "max_pooling3d_1 (MaxPooling3 (None, 50, 50, 60, 5)     0         \n",
      "_________________________________________________________________\n",
      "batch_normalization_1 (Batch (None, 50, 50, 60, 5)     20        \n",
      "_________________________________________________________________\n",
      "conv3d_2 (Conv3D)            (None, 50, 50, 60, 5)     680       \n",
      "_________________________________________________________________\n",
      "max_pooling3d_2 (MaxPooling3 (None, 25, 25, 30, 5)     0         \n",
      "_________________________________________________________________\n",
      "batch_normalization_2 (Batch (None, 25, 25, 30, 5)     20        \n",
      "_________________________________________________________________\n",
      "conv3d_3 (Conv3D)            (None, 25, 25, 30, 5)     680       \n",
      "_________________________________________________________________\n",
      "max_pooling3d_3 (MaxPooling3 (None, 12, 12, 15, 5)     0         \n",
      "_________________________________________________________________\n",
      "batch_normalization_3 (Batch (None, 12, 12, 15, 5)     20        \n",
      "_________________________________________________________________\n",
      "flatten_1 (Flatten)          (None, 10800)             0         \n",
      "_________________________________________________________________\n",
      "dropout_1 (Dropout)          (None, 10800)             0         \n",
      "_________________________________________________________________\n",
      "dense_1 (Dense)              (None, 64)                691264    \n",
      "_________________________________________________________________\n",
      "dropout_2 (Dropout)          (None, 64)                0         \n",
      "_________________________________________________________________\n",
      "dense_2 (Dense)              (None, 32)                2080      \n",
      "_________________________________________________________________\n",
      "dropout_3 (Dropout)          (None, 32)                0         \n",
      "_________________________________________________________________\n",
      "dense_3 (Dense)              (None, 2)                 66        \n",
      "=================================================================\n",
      "Total params: 694,970\n",
      "Trainable params: 694,940\n",
      "Non-trainable params: 30\n",
      "_________________________________________________________________\n",
      "Epoch 1/4\n",
      "9282/9282 [==============================] - 219s 24ms/step - loss: 1.0619 - acc: 0.6232\n",
      "Epoch 2/4\n",
      "9282/9282 [==============================] - 213s 23ms/step - loss: 0.8238 - acc: 0.7391\n",
      "Epoch 3/4\n",
      "9282/9282 [==============================] - 216s 23ms/step - loss: 0.6918 - acc: 0.7772\n",
      "Epoch 4/4\n",
      "9282/9282 [==============================] - 215s 23ms/step - loss: 0.5933 - acc: 0.8064\n"
     ]
    },
    {
     "data": {
      "image/png": "[encoded data removed]",
      "text/plain": [
       "<Figure size 432x288 with 1 Axes>"
      ]
     },
     "metadata": {
      "needs_background": "light"
     },
     "output_type": "display_data"
    },
    {
     "data": {
      "image/png": "[encoded data removed]",
      "text/plain": [
       "<Figure size 432x288 with 1 Axes>"
      ]
     },
     "metadata": {
      "needs_background": "light"
     },
     "output_type": "display_data"
    },
    {
     "name": "stdout",
     "output_type": "stream",
     "text": [
      "saving model to: model_checkpoints/resmodel_wb_whole_ds.hdf5\n"
     ]
    },
    {
     "data": {
      "image/png": "[encoded data removed]",
      "text/plain": [
       "<Figure size 432x288 with 1 Axes>"
      ]
     },
     "metadata": {
      "needs_background": "light"
     },
     "output_type": "display_data"
    },
    {
     "name": "stdout",
     "output_type": "stream",
     "text": [
      "AUC for MCI vs. CN = 0.92\n",
      "AUC for AD vs. CN = 0.99\n"
     ]
    }
   ],
   "source": [
    "# train model on whole ADNI GO/2 dataset\n",
    "import numpy as np\n",
    "from sklearn.metrics import roc_curve, auc\n",
    "from matplotlib import pyplot as plt\n",
    "%matplotlib inline\n",
    "import keras\n",
    "from keras import layers\n",
    "from keras import models\n",
    "from keras.callbacks import EarlyStopping\n",
    "import tensorflow as tf\n",
    "\n",
    "for k in [1]:\n",
    "    train_idX = range(numfiles)\n",
    "    print('Distribution of diagnoses in training data: [1=CN, 3=LMCI, 4=AD]')\n",
    "    print(grps.iloc[train_idX, :].Group.value_counts())\n",
    "    \n",
    "    # Setup 3D CNN model\n",
    "    tf.set_random_seed(k)\n",
    "    input_shape = images.shape[1:]\n",
    "    model = models.Sequential()\n",
    "\n",
    "    # Convolution Layers\n",
    "    model.add(layers.Conv3D(5, (3, 3, 3), padding='same', activation='relu',\n",
    "              input_shape=input_shape, data_format='channels_last'))\n",
    "    model.add(layers.MaxPooling3D(pool_size=(2, 2, 2)))\n",
    "    model.add(layers.BatchNormalization())\n",
    "\n",
    "    model.add(layers.Conv3D(5, (3, 3, 3), padding='same', activation='relu'))\n",
    "    model.add(layers.MaxPooling3D(pool_size=(2, 2, 2)))\n",
    "    model.add(layers.BatchNormalization())\n",
    "\n",
    "    model.add(layers.Conv3D(5, (3, 3, 3), padding='same', activation='relu'))\n",
    "    model.add(layers.MaxPooling3D(pool_size=(2, 2, 2)))\n",
    "    model.add(layers.BatchNormalization())\n",
    "    \n",
    "    # FC layers\n",
    "    model.add(layers.Flatten())\n",
    "    model.add(layers.Dropout(rate = 0.1))\n",
    "    model.add(layers.Dense(64, activation='relu'))\n",
    "    model.add(layers.Dropout(rate = 0.1))\n",
    "    model.add(layers.Dense(32, activation='relu', kernel_regularizer='l2'))\n",
    "    model.add(layers.Dropout(rate = 0.1))\n",
    "    model.add(layers.Dense(2, activation='softmax', kernel_regularizer='l2'))\n",
    "\n",
    "    opt = keras.optimizers.Adam(lr=0.0001) # learning_rate\n",
    "    model.compile(loss='categorical_crossentropy', optimizer=opt, metrics=['accuracy'])\n",
    "    if k==1:\n",
    "        model.summary()\n",
    "    \n",
    "    traindat = images[train_idX, :]\n",
    "    train_Y = labels[train_idX, :]\n",
    "\n",
    "    num_train_scans = traindat.shape[0]\n",
    "    num_copies = 14\n",
    "    traindatA = np.zeros((num_train_scans*num_copies,) + traindat.shape[1:], dtype=traindat.dtype)\n",
    "    traindatA[0:num_train_scans, :, :, :, :] = traindat\n",
    "    traindatA[num_train_scans:(2*num_train_scans), :, :, :, :] = simpleshift(traindat, -10, 1) # move around x-axis\n",
    "    traindatA[2*num_train_scans:(3*num_train_scans), :, :, :, :] = simpleshift(traindat, 10, 1)\n",
    "    traindatA[3*num_train_scans:(4*num_train_scans), :, :, :, :] = simpleshift(traindat, -10, 2) # move around y-axis\n",
    "    traindatA[4*num_train_scans:(5*num_train_scans), :, :, :, :] = simpleshift(traindat, 10, 2)\n",
    "    traindatLRshifted = np.fliplr(traindat) # flip L/R\n",
    "    traindatA[5*num_train_scans:(6*num_train_scans), :, :, :, :] = traindatLRshifted\n",
    "    traindatA[6*num_train_scans:(7*num_train_scans), :, :, :, :] = simpleshift(traindatLRshifted, 10, 1) # move around x-axis\n",
    "    traindatA[7*num_train_scans:(8*num_train_scans), :, :, :, :] = simpleshift(traindatLRshifted, -10, 1)\n",
    "    traindatA[8*num_train_scans:(9*num_train_scans), :, :, :, :] = simpleshift(traindatLRshifted, 10, 2) # move around y-axis\n",
    "    traindatA[9*num_train_scans:(10*num_train_scans), :, :, :, :] = simpleshift(traindatLRshifted, -10, 2)\n",
    "    traindatA[10*num_train_scans:(11*num_train_scans), :, :, :, :] = simpleshift(traindat, 10, 3) # move around z-axis\n",
    "    traindatA[11*num_train_scans:(12*num_train_scans), :, :, :, :] = simpleshift(traindat, -10, 3)\n",
    "    traindatA[12*num_train_scans:(13*num_train_scans), :, :, :, :] = simpleshift(traindatLRshifted, 10, 3)\n",
    "    traindatA[13*num_train_scans:(14*num_train_scans), :, :, :, :] = simpleshift(traindatLRshifted, -10, 3)\n",
    "\n",
    "    train_label = np.concatenate((train_Y, train_Y, train_Y, train_Y, train_Y, train_Y, train_Y, train_Y,\n",
    "                                  train_Y, train_Y, train_Y, train_Y, train_Y, train_Y),\n",
    "                                 axis=0)\n",
    "\n",
    "    # Fit model to training data\n",
    "    batch_size = 20\n",
    "    epochs = 4 # best average accuracy and lowerst loss in validation data (cross-validation)\n",
    "    hist = model.fit(traindatA, train_label, batch_size=batch_size, epochs=epochs, verbose=1, shuffle=True,\n",
    "                     #validation_data=(testdat, test_Y), \n",
    "                     #callbacks=[EarlyStopping(monitor='acc', mode='auto', verbose=1, patience=2, min_delta=0.02)]\n",
    "                     class_weight=class_weights)\n",
    "    # Display models statistics\n",
    "    from matplotlib import pyplot as plt\n",
    "    loss = hist.history['loss']\n",
    "    #val_loss = hist.history['val_loss']\n",
    "    acc = hist.history['acc']\n",
    "    #val_acc = hist.history['val_acc']\n",
    "    epochsr = range(len(loss))\n",
    "    plt.figure()\n",
    "    plt.plot(epochsr, loss, 'bo', label='Training loss')\n",
    "    plt.title('Training loss')\n",
    "    plt.legend()\n",
    "    plt.show()\n",
    "    plt.figure()\n",
    "    plt.plot(epochsr, acc, 'bo', label='Training acc')\n",
    "    plt.title('Accuracy')\n",
    "    plt.legend()\n",
    "    plt.show()\n",
    "    mymodel = hist.model\n",
    "    print('saving model to: model_checkpoints/resmodel_wb_whole_ds.hdf5')\n",
    "    mymodel.save('model_checkpoints/resmodel_wb_whole_ds.hdf5')\n",
    "    \n",
    "    # calculate area under the curve\n",
    "    # AUC as optimization function during training: https://stackoverflow.com/questions/41032551/how-to-compute-receiving-operating-characteristic-roc-and-auc-in-keras\n",
    "    #pred = mymodel.predict(testdat, batch_size=batch_size)\n",
    "    pred = mymodel.predict(traindat, batch_size=batch_size)\n",
    "    fpr = dict()\n",
    "    tpr = dict()\n",
    "    roc_auc = dict()\n",
    "    for i in range(2): # classes dummy vector: 0 - CN, 1 - MCI/AD\n",
    "        #fpr[i], tpr[i], _ = roc_curve(test_Y[:, i], pred[:,i])\n",
    "        fpr[i], tpr[i], _ = roc_curve(train_Y[:, i], pred[:,i])\n",
    "        roc_auc[i] = auc(fpr[i], tpr[i])\n",
    "\n",
    "    #Plot of a ROC curve for a specific class\n",
    "    plt.figure()\n",
    "    plt.plot(fpr[1], tpr[1], color='darkorange', label='ROC curve (area = %0.2f)' % roc_auc[1])\n",
    "    plt.plot([0, 1], [0, 1], color='navy', linestyle='--')\n",
    "    plt.xlim([0.0, 1.0])\n",
    "    plt.ylim([0.0, 1.05])\n",
    "    plt.xlabel('False Positive Rate')\n",
    "    plt.ylabel('True Positive Rate')\n",
    "    plt.title('Receiver operating characteristic')\n",
    "    plt.legend(loc=\"lower right\")\n",
    "    plt.show()\n",
    "    \n",
    "    # redo AUC for binary comparison: AD vs. HC and MCI vs. HC\n",
    "    testgrps = grps.iloc[train_idX, :]\n",
    "    for i in [3,4]:\n",
    "      grpi = np.equal(testgrps.Group.to_numpy(dtype=np.int), np.ones((testgrps.shape[0],), dtype=np.int)*i)\n",
    "      grp1 = np.equal(testgrps.Group.to_numpy(dtype=np.int), np.ones((testgrps.shape[0],), dtype=np.int))\n",
    "      grpidx = np.logical_or(grpi, grp1)\n",
    "      fpr[i], tpr[i], _ = roc_curve(train_Y[grpidx, 1], pred[grpidx, 1])\n",
    "      roc_auc[i] = auc(fpr[i], tpr[i])\n",
    "\n",
    "    print('AUC for MCI vs. CN = %0.2f' % roc_auc[3])\n",
    "    print('AUC for AD vs. CN = %0.2f' % roc_auc[4])"
   ]
  }
 ],
 "metadata": {
  "kernelspec": {
   "display_name": "Python 3",
   "language": "python",
   "name": "python3"
  },
  "language_info": {
   "codemirror_mode": {
    "name": "ipython",
    "version": 3
   },
   "file_extension": ".py",
   "mimetype": "text/x-python",
   "name": "python",
   "nbconvert_exporter": "python",
   "pygments_lexer": "ipython3",
   "version": "3.7.4"
  }
 },
 "nbformat": 4,
 "nbformat_minor": 4
}
