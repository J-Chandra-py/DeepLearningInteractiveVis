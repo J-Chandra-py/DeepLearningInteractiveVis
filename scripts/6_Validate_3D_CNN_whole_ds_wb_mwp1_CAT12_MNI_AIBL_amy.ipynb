{
 "cells": [
  {
   "cell_type": "code",
   "execution_count": 1,
   "metadata": {
    "colab": {},
    "colab_type": "code",
    "id": "rDUdNeNd6xle"
   },
   "outputs": [],
   "source": [
    "# Import data from Excel sheet\n",
    "import pandas as pd\n",
    "df = pd.read_excel('aibl_ptdemog_final.xlsx', sheet_name='aibl_ptdemog_final')\n",
    "#print(df)\n",
    "sid = df['RID']\n",
    "grp = df['DXCURREN']\n",
    "age = df['age']\n",
    "sex = df['PTGENDER(1=Female)']\n",
    "tiv = df['Total'] # TIV\n",
    "field = df['field_strength']\n",
    "grpbin = (grp > 1) # 1=CN, ...\n",
    "amy_bin = df['conversion_CL_threshold_26']"
   ]
  },
  {
   "cell_type": "code",
   "execution_count": 2,
   "metadata": {
    "colab": {
     "base_uri": "https://localhost:8080/",
     "height": 36
    },
    "colab_type": "code",
    "id": "Oi75gi2z9JIS",
    "outputId": "3df595b4-66cc-45e0-b162-755e20aa2c9c"
   },
   "outputs": [
    {
     "name": "stdout",
     "output_type": "stream",
     "text": [
      "Found  606  nifti files\n"
     ]
    }
   ],
   "source": [
    "# Scan for nifti file names\n",
    "import glob\n",
    "dataAIBL = sorted(glob.glob('mwp1_MNI_AIBL/*.nii.gz'))\n",
    "dataFiles = dataAIBL\n",
    "numfiles = len(dataFiles)\n",
    "print('Found ', str(numfiles), ' nifti files')"
   ]
  },
  {
   "cell_type": "code",
   "execution_count": 3,
   "metadata": {
    "colab": {
     "base_uri": "https://localhost:8080/",
     "height": 55
    },
    "colab_type": "code",
    "id": "Bgn7LbCLbXND",
    "outputId": "c78ba415-13f4-4a9c-d3d1-969975e51cf3"
   },
   "outputs": [
    {
     "name": "stderr",
     "output_type": "stream",
     "text": [
      "Using TensorFlow backend.\n"
     ]
    },
    {
     "name": "stdout",
     "output_type": "stream",
     "text": [
      "Matching covariates for loaded files ...\n",
      "Checking for scans not found in Excel sheet:  0\n"
     ]
    }
   ],
   "source": [
    "# Match covariate information\n",
    "import re\n",
    "import numpy as np\n",
    "from pandas import DataFrame\n",
    "from keras.utils import to_categorical\n",
    "debug = False\n",
    "cov_idx = [-1] * numfiles # list; array: np.full((numfiles, 1), -1, dtype=int)\n",
    "print('Matching covariates for loaded files ...')\n",
    "for i,id in enumerate(sid):\n",
    "  p = [j for j,x in enumerate(dataFiles) if re.search('_%d_MR_' % id, x)] # extract ID numbers from filename, translate to Excel row index\n",
    "  if len(p)==0:\n",
    "    if debug: print('Did not find %04d' % id) # did not find Excel sheet subject ID in loaded file selection\n",
    "  else:\n",
    "    if debug: print('Found %04d in %s: %s' % (id, p[0], dataFiles[p[0]]))\n",
    "    cov_idx[p[0]] = i # store Excel index i for data file index p[0]\n",
    "print('Checking for scans not found in Excel sheet: ', sum(x<0 for x in cov_idx))\n",
    "\n",
    "labels = pd.DataFrame({'Group':grpbin}).iloc[cov_idx, :]\n",
    "labels = to_categorical(np.asarray(labels)) # use grps to access original labels\n",
    "grps = pd.DataFrame({'Group':grp, 'RID':sid}).iloc[cov_idx, :]\n",
    "amy_status = pd.DataFrame({'amy_pos':amy_bin}).iloc[cov_idx, :]"
   ]
  },
  {
   "cell_type": "code",
   "execution_count": 4,
   "metadata": {
    "colab": {
     "base_uri": "https://localhost:8080/",
     "height": 36
    },
    "colab_type": "code",
    "id": "4KH0CEUJfcey",
    "outputId": "31a78006-0d93-48ca-b668-6b6970e16c2a"
   },
   "outputs": [
    {
     "name": "stdout",
     "output_type": "stream",
     "text": [
      "(606, 100, 100, 120, 1)\n"
     ]
    }
   ],
   "source": [
    "# Load residualized data from disk\n",
    "import h5py\n",
    "hf = h5py.File('residuals_AIBL_wb_mwp1_CAT12_MNI.hdf5', 'r')\n",
    "hf.keys # read keys\n",
    "images = np.array(hf.get('images'))\n",
    "hf.close()\n",
    "print(images.shape)"
   ]
  },
  {
   "cell_type": "code",
   "execution_count": 5,
   "metadata": {},
   "outputs": [
    {
     "name": "stdout",
     "output_type": "stream",
     "text": [
      "(423, 100, 100, 120, 1)\n"
     ]
    }
   ],
   "source": [
    "# determine amyloid status\n",
    "amy_filter = np.equal(np.transpose(amy_status.to_numpy()), labels[:,1])\n",
    "# filter index vector by amy status\n",
    "test_idX = np.array(range(amy_filter.shape[1]))[np.squeeze(amy_filter)] \n",
    "grps = grps.iloc[test_idX, :]\n",
    "images = images[test_idX, :]\n",
    "labels = labels[test_idX, :]\n",
    "print(images.shape)"
   ]
  },
  {
   "cell_type": "code",
   "execution_count": 6,
   "metadata": {
    "colab": {
     "base_uri": "https://localhost:8080/",
     "height": 36
    },
    "colab_type": "code",
    "id": "XJliKsql0adU",
    "outputId": "3abff222-03f2-42ba-ae71-86c8a0b7b17f"
   },
   "outputs": [
    {
     "name": "stdout",
     "output_type": "stream",
     "text": [
      "1.15.4\n"
     ]
    }
   ],
   "source": [
    "# specify version of tensorflow\n",
    "#%tensorflow_version 1.x  # <- use this for Google colab\n",
    "import tensorflow as tf\n",
    "# downgrade to specific version\n",
    "#!pip install tensorflow-gpu==1.15\n",
    "#import tensorflow as tf\n",
    "print(tf.__version__)\n",
    "\n",
    "# disable tensorflow deprecation warnings\n",
    "import logging\n",
    "logging.getLogger('tensorflow').disabled=True"
   ]
  },
  {
   "cell_type": "code",
   "execution_count": 7,
   "metadata": {},
   "outputs": [],
   "source": [
    "# helper function to obtain performance result values\n",
    "def get_values(conf_matrix):\n",
    "    assert conf_matrix.shape==(2,2)\n",
    "    tn, fp, fn, tp = conf_matrix.ravel()\n",
    "    sen = tp / (tp+fn)\n",
    "    spec = tn / (fp+tn)\n",
    "    ppv = tp / (tp+fp)\n",
    "    npv = tn / (tn+fn)\n",
    "    f1 = 2 * ((ppv * sen) / (ppv + sen))\n",
    "    bacc = (spec + sen) / 2\n",
    "    return bacc, sen, spec, ppv, npv, f1"
   ]
  },
  {
   "cell_type": "code",
   "execution_count": 8,
   "metadata": {},
   "outputs": [
    {
     "name": "stdout",
     "output_type": "stream",
     "text": [
      "validating model model_checkpoints/resmodel_wb_whole_ds.hdf5\n"
     ]
    },
    {
     "data": {
      "image/png": "[encoded data removed]",
      "text/plain": [
       "<Figure size 432x288 with 1 Axes>"
      ]
     },
     "metadata": {
      "needs_background": "light"
     },
     "output_type": "display_data"
    },
    {
     "name": "stdout",
     "output_type": "stream",
     "text": [
      "AUC for MCI vs. CN = 0.828\n",
      "AUC for AD vs. CN = 0.978\n",
      "Acc for MCI vs. CN = 80.3\n",
      "Acc for AD vs. CN = 84.0\n",
      "confusion matrix\n",
      "[[260  56]\n",
      " [ 17  37]\n",
      " [  3  50]]\n"
     ]
    }
   ],
   "source": [
    "# validation\n",
    "import numpy as np\n",
    "from sklearn.metrics import roc_curve, auc\n",
    "from matplotlib import pyplot as plt\n",
    "%matplotlib inline\n",
    "import keras\n",
    "from keras import models\n",
    "import tensorflow as tf\n",
    "from sklearn.metrics import confusion_matrix\n",
    "\n",
    "acc_AD, acc_MCI, auc_AD, auc_MCI = [], [], [], []\n",
    "bacc_AD, bacc_MCI = [], []\n",
    "sen_AD, sen_MCI, spec_AD, spec_MCI = [], [], [], []\n",
    "ppv_AD, ppv_MCI, npv_AD, npv_MCI = [], [], [], []\n",
    "f1_AD, f1_MCI = [], []\n",
    "\n",
    "num_kfold = 10 # number of cross-validation loops equal to number of models\n",
    "batch_size = 20\n",
    "\n",
    "for k in (1,):\n",
    "    print('validating model model_checkpoints/resmodel_wb_whole_ds.hdf5')\n",
    "    mymodel = models.load_model('model_checkpoints/resmodel_wb_whole_ds.hdf5')\n",
    "    \n",
    "    # calculate area under the curve\n",
    "    # AUC as optimization function during training: https://stackoverflow.com/questions/41032551/how-to-compute-receiving-operating-characteristic-roc-and-auc-in-keras\n",
    "    pred = mymodel.predict(images, batch_size=batch_size)\n",
    "    fpr = dict()\n",
    "    tpr = dict()\n",
    "    roc_auc = dict()\n",
    "    acc = dict()\n",
    "    for i in range(2): # classes dummy vector: 0 - CN, 1 - MCI/AD\n",
    "        fpr[i], tpr[i], _ = roc_curve(labels[:, i], pred[:,i])\n",
    "        roc_auc[i] = auc(fpr[i], tpr[i])\n",
    "    # Plot the ROC curve\n",
    "    plt.figure()\n",
    "    plt.plot(fpr[1], tpr[1], color='darkorange', label='ROC curve (area = %0.2f)' % roc_auc[1])\n",
    "    plt.plot([0, 1], [0, 1], color='navy', linestyle='--')\n",
    "    plt.xlim([0.0, 1.0])\n",
    "    plt.ylim([0.0, 1.05])\n",
    "    plt.xlabel('False Positive Rate')\n",
    "    plt.ylabel('True Positive Rate')\n",
    "    plt.title('Receiver operating characteristic')\n",
    "    plt.legend(loc=\"lower right\")\n",
    "    plt.show()\n",
    "    \n",
    "    # redo AUC for binary comparison: AD vs. HC and MCI vs. HC\n",
    "    for i in [2,3]:\n",
    "      grpi = np.equal(grps.Group.to_numpy(dtype=np.int), np.ones((grps.shape[0],), dtype=np.int)*i)\n",
    "      grp1 = np.equal(grps.Group.to_numpy(dtype=np.int), np.ones((grps.shape[0],), dtype=np.int))\n",
    "      grpidx = np.logical_or(grpi, grp1)\n",
    "      fpr[i], tpr[i], _ = roc_curve(labels[grpidx, 1], pred[grpidx, 1])\n",
    "      roc_auc[i] = auc(fpr[i], tpr[i])\n",
    "      acc[i] = np.mean((labels[grpidx, 1] == np.round(pred[grpidx, 1])).astype(int))*100\n",
    "\n",
    "    print('AUC for MCI vs. CN = %0.3f' % roc_auc[2])\n",
    "    print('AUC for AD vs. CN = %0.3f' % roc_auc[3])\n",
    "    print('Acc for MCI vs. CN = %0.1f' % acc[2])\n",
    "    print('Acc for AD vs. CN = %0.1f' % acc[3])\n",
    "    auc_AD.append(roc_auc[3])\n",
    "    auc_MCI.append(roc_auc[2])\n",
    "    acc_AD.append(acc[3])\n",
    "    acc_MCI.append(acc[2])\n",
    "    \n",
    "    print('confusion matrix')\n",
    "    confmat = confusion_matrix(grps.Group, np.round(pred[:, 1]))\n",
    "    bacc, sen, spec, ppv, npv, f1 = get_values(confmat[(1,2),0:2]) # MCI\n",
    "    bacc_MCI.append(bacc); sen_MCI.append(sen); spec_MCI.append(spec); ppv_MCI.append(ppv); npv_MCI.append(npv); f1_MCI.append(f1)\n",
    "    bacc, sen, spec, ppv, npv, f1 = get_values(confmat[(1,3),0:2]) # AD\n",
    "    bacc_AD.append(bacc); sen_AD.append(sen); spec_AD.append(spec); ppv_AD.append(ppv); npv_AD.append(npv); f1_AD.append(f1)\n",
    "    print(confmat[1:4,0:2])"
   ]
  },
  {
   "cell_type": "code",
   "execution_count": 9,
   "metadata": {},
   "outputs": [
    {
     "name": "stdout",
     "output_type": "stream",
     "text": [
      "AUC for MCI vs. CN = 0.828\n",
      "AUC for AD vs. CN = 0.978\n",
      "Acc for MCI vs. CN = 80.270\n",
      "Acc for AD vs. CN = 84.011\n",
      "Bacc for MCI vs. CN = 0.754\n",
      "Bacc for AD vs. CN = 0.883\n",
      "Sen for MCI vs. CN = 0.685\n",
      "Sen for AD vs. CN = 0.943\n",
      "Spec for MCI vs. CN = 0.823\n",
      "Spec for AD vs. CN = 0.823\n",
      "PPV for MCI vs. CN = 0.398\n",
      "PPV for AD vs. CN = 0.472\n",
      "NPV for MCI vs. CN = 0.939\n",
      "NPV for AD vs. CN = 0.989\n",
      "F1 for MCI vs. CN = 0.503\n",
      "F1 for AD vs. CN = 0.629\n"
     ]
    }
   ],
   "source": [
    "# print model performance summary\n",
    "\n",
    "print('AUC for MCI vs. CN = %0.3f' % auc_MCI[0])\n",
    "print('AUC for AD vs. CN = %0.3f' % auc_AD[0])\n",
    "print('Acc for MCI vs. CN = %0.3f' % acc_MCI[0])\n",
    "print('Acc for AD vs. CN = %0.3f' % acc_AD[0])\n",
    "print('Bacc for MCI vs. CN = %0.3f' % bacc_MCI[0])\n",
    "print('Bacc for AD vs. CN = %0.3f' % bacc_AD[0])\n",
    "print('Sen for MCI vs. CN = %0.3f' % sen_MCI[0])\n",
    "print('Sen for AD vs. CN = %0.3f' % sen_AD[0])\n",
    "print('Spec for MCI vs. CN = %0.3f' % spec_MCI[0])\n",
    "print('Spec for AD vs. CN = %0.3f' % spec_AD[0])\n",
    "print('PPV for MCI vs. CN = %0.3f' % ppv_MCI[0])\n",
    "print('PPV for AD vs. CN = %0.3f' % ppv_AD[0])\n",
    "print('NPV for MCI vs. CN = %0.3f' % npv_MCI[0])\n",
    "print('NPV for AD vs. CN = %0.3f' % npv_AD[0])\n",
    "print('F1 for MCI vs. CN = %0.3f' % f1_MCI[0])\n",
    "print('F1 for AD vs. CN = %0.3f' % f1_AD[0])"
   ]
  }
 ],
 "metadata": {
  "kernelspec": {
   "display_name": "Python 3",
   "language": "python",
   "name": "python3"
  },
  "language_info": {
   "codemirror_mode": {
    "name": "ipython",
    "version": 3
   },
   "file_extension": ".py",
   "mimetype": "text/x-python",
   "name": "python",
   "nbconvert_exporter": "python",
   "pygments_lexer": "ipython3",
   "version": "3.7.4"
  }
 },
 "nbformat": 4,
 "nbformat_minor": 4
}
